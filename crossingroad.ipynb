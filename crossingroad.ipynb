{
 "cells": [
  {
   "cell_type": "code",
   "execution_count": 1,
   "id": "272365ef",
   "metadata": {},
   "outputs": [],
   "source": [
    "import numpy as np\n",
    "import matplotlib.pyplot as plt"
   ]
  },
  {
   "cell_type": "code",
   "execution_count": 2,
   "id": "d9d89890",
   "metadata": {},
   "outputs": [],
   "source": [
    "num_states = 5\n",
    "num_actions = 3"
   ]
  },
  {
   "cell_type": "code",
   "execution_count": 3,
   "id": "f5d2d445",
   "metadata": {},
   "outputs": [],
   "source": [
    "Q = np.zeros((num_states, num_actions))"
   ]
  },
  {
   "cell_type": "code",
   "execution_count": 4,
   "id": "f81c21fa",
   "metadata": {},
   "outputs": [],
   "source": [
    "alpha = 0.1\n",
    "gamma = 0.9\n",
    "epsilon = 0.1\n",
    "\n",
    "episode_rewards = []"
   ]
  },
  {
   "cell_type": "code",
   "execution_count": null,
   "id": "865ce6c9",
   "metadata": {},
   "outputs": [],
   "source": [
    "for episode in range(100):\n",
    "    state = 0\n",
    "    done = False\n",
    "    total_reward = 0\n",
    "    \n",
    "    while not done:\n",
    "        if np.random.random() < epsilon:\n",
    "            action = np.random.randint(0, num_actions)\n",
    "        else:\n",
    "            action = np.argmax(Q[state])\n",
    "        \n",
    "\n",
    "        if state == 0:\n",
    "            action = 2 \n",
    "        elif state == 1:\n",
    "            action = 0\n",
    "        elif state == 2:\n",
    "            action = 2 \n",
    "\n",
    "        next_state = state + (1 if action == 2 else (-1 if action == 0 else 0))\n",
    "        reward = 1 if next_state == num_states-1 else -0.1  \n",
    "        total_reward += reward\n",
    "\n",
    "        Q[state, action] = Q[state, action] + alpha * (reward + gamma * np.max(Q[next_state]) - Q[state, action])\n",
    "        \n",
    "        state = next_state\n",
    "        if state == num_states-1:\n",
    "            done = True\n",
    "\n",
    "    episode_rewards.append(total_reward)"
   ]
  },
  {
   "cell_type": "code",
   "execution_count": null,
   "id": "33018637",
   "metadata": {},
   "outputs": [],
   "source": [
    "plt.figure(figsize=(10, 5))\n",
    "plt.plot(episode_rewards)\n",
    "plt.xlabel(\"Episode\")\n",
    "plt.ylabel(\"Total Reward\")\n",
    "plt.title(\"Training Progress\")\n",
    "plt.show()"
   ]
  }
 ],
 "metadata": {
  "kernelspec": {
   "display_name": ".venv",
   "language": "python",
   "name": "python3"
  },
  "language_info": {
   "codemirror_mode": {
    "name": "ipython",
    "version": 3
   },
   "file_extension": ".py",
   "mimetype": "text/x-python",
   "name": "python",
   "nbconvert_exporter": "python",
   "pygments_lexer": "ipython3",
   "version": "3.12.4"
  }
 },
 "nbformat": 4,
 "nbformat_minor": 5
}
